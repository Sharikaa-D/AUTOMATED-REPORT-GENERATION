{
  "nbformat": 4,
  "nbformat_minor": 0,
  "metadata": {
    "colab": {
      "provenance": []
    },
    "kernelspec": {
      "name": "python3",
      "display_name": "Python 3"
    },
    "language_info": {
      "name": "python"
    }
  },
  "cells": [
    {
      "cell_type": "code",
      "execution_count": 1,
      "metadata": {
        "colab": {
          "base_uri": "https://localhost:8080/"
        },
        "id": "RjV8KeslYM3-",
        "outputId": "29b1697d-eadf-4831-fc5f-ada142ffacb9"
      },
      "outputs": [
        {
          "output_type": "stream",
          "name": "stdout",
          "text": [
            "✅ sample_data.csv created\n"
          ]
        }
      ],
      "source": [
        "# Create sample_data.csv\n",
        "with open(\"sample_data.csv\", \"w\") as file:\n",
        "    file.write(\"Name,Age,Score\\n\")\n",
        "    file.write(\"Alice,23,85\\n\")\n",
        "    file.write(\"Bob,21,90\\n\")\n",
        "    file.write(\"Charlie,22,88\\n\")\n",
        "    file.write(\"David,24,76\\n\")\n",
        "    file.write(\"Eva,20,95\\n\")\n",
        "print(\"✅ sample_data.csv created\")\n"
      ]
    },
    {
      "cell_type": "code",
      "source": [
        "!pip install pandas fpdf\n",
        "import pandas as pd\n",
        "from fpdf import FPDF\n",
        "from datetime import datetime\n"
      ],
      "metadata": {
        "colab": {
          "base_uri": "https://localhost:8080/"
        },
        "id": "Do-ergs3YiWF",
        "outputId": "2e73a628-07e3-4478-b0e2-e72c4fc92667"
      },
      "execution_count": 2,
      "outputs": [
        {
          "output_type": "stream",
          "name": "stdout",
          "text": [
            "Requirement already satisfied: pandas in /usr/local/lib/python3.11/dist-packages (2.2.2)\n",
            "Collecting fpdf\n",
            "  Downloading fpdf-1.7.2.tar.gz (39 kB)\n",
            "  Preparing metadata (setup.py) ... \u001b[?25l\u001b[?25hdone\n",
            "Requirement already satisfied: numpy>=1.23.2 in /usr/local/lib/python3.11/dist-packages (from pandas) (2.0.2)\n",
            "Requirement already satisfied: python-dateutil>=2.8.2 in /usr/local/lib/python3.11/dist-packages (from pandas) (2.9.0.post0)\n",
            "Requirement already satisfied: pytz>=2020.1 in /usr/local/lib/python3.11/dist-packages (from pandas) (2025.2)\n",
            "Requirement already satisfied: tzdata>=2022.7 in /usr/local/lib/python3.11/dist-packages (from pandas) (2025.2)\n",
            "Requirement already satisfied: six>=1.5 in /usr/local/lib/python3.11/dist-packages (from python-dateutil>=2.8.2->pandas) (1.17.0)\n",
            "Building wheels for collected packages: fpdf\n",
            "  Building wheel for fpdf (setup.py) ... \u001b[?25l\u001b[?25hdone\n",
            "  Created wheel for fpdf: filename=fpdf-1.7.2-py2.py3-none-any.whl size=40704 sha256=9040c303ca53cff3d520ecb3f9e637edb8aabf6aa0bdf1467d18033518b4f7eb\n",
            "  Stored in directory: /root/.cache/pip/wheels/65/4f/66/bbda9866da446a72e206d6484cd97381cbc7859a7068541c36\n",
            "Successfully built fpdf\n",
            "Installing collected packages: fpdf\n",
            "Successfully installed fpdf-1.7.2\n"
          ]
        }
      ]
    },
    {
      "cell_type": "code",
      "source": [
        "# Load data\n",
        "df = pd.read_csv(\"sample_data.csv\")\n",
        "summary = df.describe()\n",
        "\n",
        "# Generate PDF\n",
        "pdf = FPDF()\n",
        "pdf.add_page()\n",
        "pdf.set_font(\"Arial\", 'B', 16)\n",
        "pdf.cell(200, 10, \"Automated Report\", ln=True, align='C')\n",
        "\n",
        "pdf.set_font(\"Arial\", '', 12)\n",
        "pdf.cell(200, 10, f\"Generated on: {datetime.now():%Y-%m-%d %H:%M:%S}\", ln=True, align='C')\n",
        "pdf.ln(10)\n",
        "\n",
        "for col in summary.columns:\n",
        "    pdf.set_font(\"Arial\", 'B', 12)\n",
        "    pdf.cell(200, 10, f\"Column: {col}\", ln=True)\n",
        "    pdf.set_font(\"Arial\", '', 11)\n",
        "    for stat in summary.index:\n",
        "        value = summary.loc[stat, col]\n",
        "        pdf.cell(200, 8, f\"{stat}: {value:.2f}\", ln=True)\n",
        "    pdf.ln(5)\n",
        "\n",
        "pdf.output(\"data_analysis_report.pdf\")\n",
        "print(\"✅ PDF generated!\")\n"
      ],
      "metadata": {
        "colab": {
          "base_uri": "https://localhost:8080/"
        },
        "id": "kaYJ_kYaYo71",
        "outputId": "8e8892c7-9931-4d41-d63f-0d6533f07bcd"
      },
      "execution_count": 3,
      "outputs": [
        {
          "output_type": "stream",
          "name": "stdout",
          "text": [
            "✅ PDF generated!\n"
          ]
        }
      ]
    },
    {
      "cell_type": "code",
      "source": [
        "from google.colab import files\n",
        "files.download(\"data_analysis_report.pdf\")\n"
      ],
      "metadata": {
        "colab": {
          "base_uri": "https://localhost:8080/",
          "height": 17
        },
        "id": "oRktBNLQYvdd",
        "outputId": "f7fd3afb-e36a-4c26-b5fa-7c85d5362f82"
      },
      "execution_count": 4,
      "outputs": [
        {
          "output_type": "display_data",
          "data": {
            "text/plain": [
              "<IPython.core.display.Javascript object>"
            ],
            "application/javascript": [
              "\n",
              "    async function download(id, filename, size) {\n",
              "      if (!google.colab.kernel.accessAllowed) {\n",
              "        return;\n",
              "      }\n",
              "      const div = document.createElement('div');\n",
              "      const label = document.createElement('label');\n",
              "      label.textContent = `Downloading \"${filename}\": `;\n",
              "      div.appendChild(label);\n",
              "      const progress = document.createElement('progress');\n",
              "      progress.max = size;\n",
              "      div.appendChild(progress);\n",
              "      document.body.appendChild(div);\n",
              "\n",
              "      const buffers = [];\n",
              "      let downloaded = 0;\n",
              "\n",
              "      const channel = await google.colab.kernel.comms.open(id);\n",
              "      // Send a message to notify the kernel that we're ready.\n",
              "      channel.send({})\n",
              "\n",
              "      for await (const message of channel.messages) {\n",
              "        // Send a message to notify the kernel that we're ready.\n",
              "        channel.send({})\n",
              "        if (message.buffers) {\n",
              "          for (const buffer of message.buffers) {\n",
              "            buffers.push(buffer);\n",
              "            downloaded += buffer.byteLength;\n",
              "            progress.value = downloaded;\n",
              "          }\n",
              "        }\n",
              "      }\n",
              "      const blob = new Blob(buffers, {type: 'application/binary'});\n",
              "      const a = document.createElement('a');\n",
              "      a.href = window.URL.createObjectURL(blob);\n",
              "      a.download = filename;\n",
              "      div.appendChild(a);\n",
              "      a.click();\n",
              "      div.remove();\n",
              "    }\n",
              "  "
            ]
          },
          "metadata": {}
        },
        {
          "output_type": "display_data",
          "data": {
            "text/plain": [
              "<IPython.core.display.Javascript object>"
            ],
            "application/javascript": [
              "download(\"download_49b72818-5b0e-4733-b7e8-79d18784be8c\", \"data_analysis_report.pdf\", 1354)"
            ]
          },
          "metadata": {}
        }
      ]
    }
  ]
}